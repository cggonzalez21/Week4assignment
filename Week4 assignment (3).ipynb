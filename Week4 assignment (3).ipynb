{
  "metadata": {
    "language_info": {
      "codemirror_mode": {
        "name": "python",
        "version": 3
      },
      "file_extension": ".py",
      "mimetype": "text/x-python",
      "name": "python",
      "nbconvert_exporter": "python",
      "pygments_lexer": "ipython3",
      "version": "3.8"
    },
    "kernelspec": {
      "name": "python",
      "display_name": "Pyolite",
      "language": "python"
    }
  },
  "nbformat_minor": 4,
  "nbformat": 4,
  "cells": [
    {
      "cell_type": "markdown",
      "source": "#My Jupyter Notebook on IBM Watson Studio\n",
      "metadata": {}
    },
    {
      "cell_type": "markdown",
      "source": "**CLAUDIA GONZALEZ**\n\nData Analyst",
      "metadata": {}
    },
    {
      "cell_type": "markdown",
      "source": "*I became interested in data analytics in graduate school, especially leveraging the use of data in clinical decision-making.I felt I already possessed an Intermediate to Advanced understanding of Excel and gained a Beginner to Intermediate level of proficiency in R.  Python was fairly new at the time and I am now getting to learn that.*",
      "metadata": {}
    },
    {
      "cell_type": "markdown",
      "source": "###In the cell below I will demonstrate a simple mathematical equation (201-200).",
      "metadata": {}
    },
    {
      "cell_type": "code",
      "source": "201-200",
      "metadata": {
        "trusted": true
      },
      "execution_count": 1,
      "outputs": [
        {
          "execution_count": 1,
          "output_type": "execute_result",
          "data": {
            "text/plain": "1"
          },
          "metadata": {}
        }
      ]
    },
    {
      "cell_type": "markdown",
      "source": "When I am not spending my evenings studying data, I work as a clinical laboratory scientist (CLS) at ~~Ascension Seton in Texas~~ Whoops. [Labcorp.](https://ir.labcorp.com/news-releases/news-release-details/labcorp-enters-comprehensive-long-term-laboratory-relationship) I am very excited for what this new partnership means for my industry and my role:\n1. Employment at a public corporation vs. a non-profit entity\n2. Being a part of a corporation dedicated to laboratory operations and many other laboratory related functions.\n3. The potential for a robust career trajectory for laboratory scientists.\n\nThere are many other excellent reasons for my anticipation of what this partnership brings but more than anything I hope to finally be able to leverage my MBA and this data analysis training in my career. \n***\n\n",
      "metadata": {}
    },
    {
      "cell_type": "code",
      "source": "",
      "metadata": {},
      "execution_count": null,
      "outputs": []
    }
  ]
}